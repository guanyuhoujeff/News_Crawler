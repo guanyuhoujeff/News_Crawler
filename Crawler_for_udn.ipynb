{
 "cells": [
  {
   "cell_type": "markdown",
   "metadata": {},
   "source": [
    "# 聯合新聞網 股市 爬蟲"
   ]
  },
  {
   "cell_type": "code",
   "execution_count": 12,
   "metadata": {
    "collapsed": true
   },
   "outputs": [],
   "source": [
    "import requests\n",
    "from bs4 import BeautifulSoup\n",
    "import os "
   ]
  },
  {
   "cell_type": "markdown",
   "metadata": {},
   "source": [
    "# 輸入一個路徑，會檢查該路徑是否存在，若不在則產生資料夾"
   ]
  },
  {
   "cell_type": "code",
   "execution_count": 13,
   "metadata": {
    "collapsed": true
   },
   "outputs": [],
   "source": [
    "def check_and_mkdir(News_DB_path):\n",
    "    ## os.path.isdir -> 檢查路徑是否存在\n",
    "    if not(os.path.isdir(News_DB_path)):\n",
    "        ## 若不存在，使用os.makedirs -> 來建立路徑資料夾\n",
    "        os.makedirs(News_DB_path)"
   ]
  },
  {
   "cell_type": "markdown",
   "metadata": {},
   "source": [
    "# 輸入一個新聞的網址，可以爬取標題、時間及內文，並儲存為TXT檔"
   ]
  },
  {
   "cell_type": "code",
   "execution_count": 14,
   "metadata": {
    "collapsed": true
   },
   "outputs": [],
   "source": [
    "def save_news(one_news_url):\n",
    "    ## 此自訂函式會取得新聞的標題及時間，並組合為要存檔的檔名\n",
    "    ## 因為檔名不能存在 #,%,*,&,|,\\,/,?,>,<,:,\" 等符號，故如果檔名有不符合符號則取代為 _\n",
    "    def get_file_name():\n",
    "        new_title = soup.select_one(\".story_art_title\").text.strip()\n",
    "        new_time = soup.select_one(\".story_bady_info_author\").span.text.replace(\"-\",\"_\").replace(\" \",\"_\").replace(\":\",\"_\")\n",
    "        file_name = new_time + \" \" + new_title\n",
    "        symbol=[\"#\",\"%\",\"*\",'&','|','\\\\','/','?','>','<',\":\",'\"']\n",
    "        for s in file_name:\n",
    "            if s in symbol:\n",
    "                file_name = file_name.replace(s,\"_\")\n",
    "        return file_name + \".txt\" \n",
    "    \n",
    "    \n",
    "    ## 取得新聞的HTML標籤\n",
    "    soup = BeautifulSoup(requests.get(one_news_url).text, \"lxml\")\n",
    "    ## 取得要存檔的檔名\n",
    "    file_name = get_file_name()\n",
    "    \n",
    "    ##如果檔案已經在我們資料夾中，則Pass\n",
    "    if file_name in os.listdir(News_DB_path):\n",
    "        #print(\"Pass News : \", file_name)\n",
    "        pass\n",
    "    else:\n",
    "        ## news_content 為要寫入TXT檔的內文\n",
    "        news_content = \"\"\n",
    "        ## 文本一開始為新聞標題及時間\n",
    "        news_content += soup.select_one(\".story_art_title\").text.strip() + \"\\n\" + soup.select_one(\".story_bady_info_author\").span.text.strip() \n",
    "        ## 發現每個內文的標籤為p，故以迴圈讀取每個上的文字，以累計的方式寫在news_content\n",
    "        for p in soup.select_one(\"#story_body\").select(\"p\"):\n",
    "            news_content += \"\\n\"\n",
    "            news_content += p.text\n",
    "        ## 最後把news_content存成txt檔，編碼為utf8\n",
    "        with open(os.path.join(News_DB_path, file_name), \"w\", encoding=\"utf8\") as writer:\n",
    "            writer.write(news_content)"
   ]
  },
  {
   "cell_type": "markdown",
   "metadata": {},
   "source": [
    "# 主要程式開始"
   ]
  },
  {
   "cell_type": "code",
   "execution_count": 15,
   "metadata": {},
   "outputs": [
    {
     "name": "stdout",
     "output_type": "stream",
     "text": [
      "udn crawler done !! \n"
     ]
    }
   ],
   "source": [
    "## 檢查資料夾路徑是否存在\n",
    "News_DB_path = os.path.join(\"./NewsDB\", \"udn\")\n",
    "check_and_mkdir(News_DB_path)\n",
    "## 進入主頁\n",
    "News_home_url = \"https://udn.com/news/cate/2/6645\"\n",
    "## 取得區域網頁元素\n",
    "soup = BeautifulSoup(requests.get(News_home_url).text, \"lxml\")\n",
    "area_list = soup.select_one(\"#cate\")\n",
    "## 以迴圈讀取每一區域\n",
    "for one_area in area_list.select(\".listing\"):\n",
    "    ## 每一區域的新聞清單\n",
    "    for one_area_news_list in one_area.select(\"dt\"):\n",
    "        ## 以迴圈讀取新聞清單的每一個新聞\n",
    "        for one_news_element in one_area_news_list:\n",
    "            ## 取得新聞的網址\n",
    "            ## try 先試試，遇到錯誤跳過\n",
    "            try:\n",
    "                one_news_url = \"https://udn.com\" + one_news_element.get(\"href\")\n",
    "                save_news(one_news_url)\n",
    "            except:\n",
    "                pass\n",
    "            \n",
    "print(\"udn crawler done !! \")"
   ]
  },
  {
   "cell_type": "code",
   "execution_count": null,
   "metadata": {
    "collapsed": true
   },
   "outputs": [],
   "source": []
  },
  {
   "cell_type": "code",
   "execution_count": null,
   "metadata": {
    "collapsed": true
   },
   "outputs": [],
   "source": []
  },
  {
   "cell_type": "code",
   "execution_count": null,
   "metadata": {
    "collapsed": true
   },
   "outputs": [],
   "source": []
  }
 ],
 "metadata": {
  "kernelspec": {
   "display_name": "Python 3",
   "language": "python",
   "name": "python3"
  },
  "language_info": {
   "codemirror_mode": {
    "name": "ipython",
    "version": 3
   },
   "file_extension": ".py",
   "mimetype": "text/x-python",
   "name": "python",
   "nbconvert_exporter": "python",
   "pygments_lexer": "ipython3",
   "version": "3.6.3"
  }
 },
 "nbformat": 4,
 "nbformat_minor": 2
}
