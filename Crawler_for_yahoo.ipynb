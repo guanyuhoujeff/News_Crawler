{
 "cells": [
  {
   "cell_type": "markdown",
   "metadata": {},
   "source": [
    "# Yahoo 財經 台股新聞爬蟲"
   ]
  },
  {
   "cell_type": "markdown",
   "metadata": {},
   "source": [
    "* Yahoo 的爬蟲需要 header\n",
    "* 時間有時區的問題"
   ]
  },
  {
   "cell_type": "code",
   "execution_count": 1,
   "metadata": {
    "collapsed": true
   },
   "outputs": [],
   "source": [
    "import requests\n",
    "from bs4 import BeautifulSoup\n",
    "import os \n",
    "try:\n",
    "    import arrow\n",
    "except ModuleNotFoundError:\n",
    "    ## 如果沒有arrow套件，就會自動安裝\n",
    "    os.system(\"pip install arrow套件，就會自動安裝\")\n",
    "    import arrow"
   ]
  },
  {
   "cell_type": "markdown",
   "metadata": {},
   "source": [
    "# 輸入一個路徑，會檢查該路徑是否存在，若不在則產生資料夾"
   ]
  },
  {
   "cell_type": "code",
   "execution_count": 2,
   "metadata": {
    "collapsed": true
   },
   "outputs": [],
   "source": [
    "def check_and_mkdir(News_DB_path):\n",
    "    ## os.path.isdir -> 檢查路徑是否存在\n",
    "    if not(os.path.isdir(News_DB_path)):\n",
    "        ## 若不存在，使用os.makedirs -> 來建立路徑資料夾\n",
    "        os.makedirs(News_DB_path)"
   ]
  },
  {
   "cell_type": "markdown",
   "metadata": {},
   "source": [
    "# 輸入一個新聞的網址，可以爬取標題、時間及內文，並儲存為TXT檔"
   ]
  },
  {
   "cell_type": "code",
   "execution_count": 22,
   "metadata": {},
   "outputs": [],
   "source": [
    "def save_news(one_news_url):\n",
    "    ## 此自訂函式會取得新聞的標題及時間，並組合為要存檔的檔名\n",
    "    ## 因為檔名不能存在 #,%,*,&,|,\\,/,?,>,<,:,\" 等符號，故如果檔名有不符合符號則取代為 _\n",
    "    \n",
    "    def get_file_name():\n",
    "        new_title = soup.select_one(\".canvas-header\").text.strip()\n",
    "        new_time =  \"%d_%d_%d_%d_%d_%d\"%(year, month, day, hr, minute, second)\n",
    "        file_name = new_time + \" \" + new_title\n",
    "        symbol=[\"#\",\"%\",\"*\",'&','|','\\\\','/','?','>','<',\":\",'\"']\n",
    "        for s in file_name:\n",
    "            if s in symbol:\n",
    "                file_name = file_name.replace(s,\"_\")\n",
    "        return file_name + \".txt\" \n",
    "    \n",
    "    \n",
    "    ## 取得新聞的HTML標籤\n",
    "    soup = BeautifulSoup(requests.get(one_news_url, headers = header).text, \"lxml\")\n",
    "    \n",
    "    ## 新聞的時間\n",
    "    new_datetime = arrow.get(soup.select_one(\"time\").get(\"datetime\"))\n",
    "    year = new_datetime.date().year\n",
    "    month =new_datetime.date().month\n",
    "    ## 因為yahoo 的時間是以時區0為紀錄，故台灣時間要小時+8，若hr超過24就會進位1天，沒有就保持\n",
    "    hr = new_datetime.time().hour + 8 - 24\n",
    "    if hr < 0:\n",
    "        hr += 24\n",
    "        day = new_datetime.date().day\n",
    "    else:\n",
    "        day =  new_datetime.date().day + 1\n",
    "    minute = new_datetime.time().minute\n",
    "    second = new_datetime.time().second\n",
    "    \n",
    "    ## 取得要存檔的檔名\n",
    "    file_name = get_file_name()\n",
    "    \n",
    "    ##如果檔案已經在我們資料夾中，則Pass\n",
    "    if file_name in os.listdir(News_DB_path):\n",
    "        #print(\"Pass News : \", file_name)\n",
    "        pass\n",
    "    else:\n",
    "        ## news_content 為要寫入TXT檔的內文\n",
    "        news_content = \"\"\n",
    "        ## 文本一開始為新聞標題及時間\n",
    "        news_content += soup.select_one(\".canvas-header\").text.strip() + \"\\n\" + \"%d年%d月%d日 %d時%d分%d秒\"%(year, month, day, hr, minute, second)\n",
    "        ## 發現每個內文的標籤為p，故以迴圈讀取每個上的文字，以累計的方式寫在news_content\n",
    "        for p in soup.select_one(\"article\").select(\"p\"):\n",
    "            news_content += \"\\n\"\n",
    "            news_content += p.text\n",
    "        ## 最後把news_content存成txt檔，編碼為utf8\n",
    "        with open(os.path.join(News_DB_path, file_name), \"w\", encoding=\"utf8\") as writer:\n",
    "            writer.write(news_content)"
   ]
  },
  {
   "cell_type": "markdown",
   "metadata": {},
   "source": [
    "# 主要程式開始"
   ]
  },
  {
   "cell_type": "code",
   "execution_count": 23,
   "metadata": {},
   "outputs": [
    {
     "name": "stdout",
     "output_type": "stream",
     "text": [
      "yahoo crawler done !! \n"
     ]
    }
   ],
   "source": [
    "## 檢查資料夾路徑是否存在\n",
    "News_DB_path = os.path.join(\"./NewsDB\", \"yahoo\")\n",
    "check_and_mkdir(News_DB_path)\n",
    "## 進入主頁\n",
    "News_home_url = \"https://tw.news.yahoo.com/stock\"\n",
    "## 需要 header來模擬人在上網，不然yahoo的會檔\n",
    "header = {\n",
    "    \"user-agent\": \"Mozilla/5.0 (X11; Linux x86_64) AppleWebKit/537.36 (KHTML, like Gecko) Chrome/68.0.3440.106 Safari/537.36\"\n",
    "}\n",
    "## 取得區域網頁元素\n",
    "soup = BeautifulSoup(requests.get(News_home_url, headers = header).text, \"lxml\")\n",
    "\n",
    "## 取得新聞清單\n",
    "# find_all 的 attrs={} 可以搜索包含特殊属性的tag\n",
    "news_list = soup.select_one(\"#YDC-Stream\").find_all(attrs={\"data-test-locator\": \"mega\"})\n",
    "for one_news_element in news_list:\n",
    "    one_news_url = \"https://tw.news.yahoo.com\" + one_news_element.a.get(\"href\")\n",
    "    save_news(one_news_url)\n",
    "            \n",
    "print(\"yahoo crawler done !! \")"
   ]
  },
  {
   "cell_type": "code",
   "execution_count": null,
   "metadata": {
    "collapsed": true
   },
   "outputs": [],
   "source": []
  }
 ],
 "metadata": {
  "kernelspec": {
   "display_name": "Python 3",
   "language": "python",
   "name": "python3"
  },
  "language_info": {
   "codemirror_mode": {
    "name": "ipython",
    "version": 3
   },
   "file_extension": ".py",
   "mimetype": "text/x-python",
   "name": "python",
   "nbconvert_exporter": "python",
   "pygments_lexer": "ipython3",
   "version": "3.6.3"
  }
 },
 "nbformat": 4,
 "nbformat_minor": 2
}
