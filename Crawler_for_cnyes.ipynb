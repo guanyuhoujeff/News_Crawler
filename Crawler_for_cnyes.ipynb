{
 "cells": [
  {
   "cell_type": "markdown",
   "metadata": {},
   "source": [
    "# 鉅亨網 台股新聞爬蟲"
   ]
  },
  {
   "cell_type": "code",
   "execution_count": 1,
   "metadata": {},
   "outputs": [],
   "source": [
    "import requests\n",
    "from bs4 import BeautifulSoup\n",
    "import json\n",
    "import datetime\n",
    "import time\n",
    "import os"
   ]
  },
  {
   "cell_type": "markdown",
   "metadata": {},
   "source": [
    "# 輸入一個路徑，會檢查該路徑是否存在，若不在則產生資料夾"
   ]
  },
  {
   "cell_type": "code",
   "execution_count": 2,
   "metadata": {},
   "outputs": [],
   "source": [
    "def check_and_mkdir(News_DB_path):\n",
    "    ## os.path.isdir -> 檢查路徑是否存在\n",
    "    if not(os.path.isdir(News_DB_path)):\n",
    "        ## 若不存在，使用os.makedirs -> 來建立路徑資料夾\n",
    "        os.makedirs(News_DB_path)"
   ]
  },
  {
   "cell_type": "markdown",
   "metadata": {},
   "source": [
    "# 輸入一個新聞的網址，可以爬取標題、時間及內文，並儲存為TXT檔"
   ]
  },
  {
   "cell_type": "code",
   "execution_count": 3,
   "metadata": {},
   "outputs": [],
   "source": [
    "def save_news(one_news_url):\n",
    "    ## 此自訂函式會取得新聞的標題及時間，並組合為要存檔的檔名\n",
    "    ## 因為檔名不能存在 #,%,*,&,|,\\,/,?,>,<,:,\" 等符號，故如果檔名有不符合符號則取代為 _\n",
    "    def get_file_name():\n",
    "        new_title = soup.select_one(\"._uo1\").text.strip()\n",
    "        new_time = soup.select_one(\"time\").text.strip().replace(\"/\",\"_\").replace(\" \",\"_\").replace(\":\",\"_\")\n",
    "        file_name = new_time + \" \" + new_title\n",
    "        symbol=[\"#\",\"%\",\"*\",'&','|','\\\\','/','?','>','<',\":\",'\"']\n",
    "        for s in file_name:\n",
    "            if s in symbol:\n",
    "                file_name = file_name.replace(s,\"_\")\n",
    "        return file_name + \".txt\" \n",
    "    \n",
    "    \n",
    "    ## 取得新聞的HTML標籤\n",
    "    soup = BeautifulSoup(requests.get(one_news_url).text, \"lxml\")\n",
    "    ## 取得要存檔的檔名\n",
    "    file_name = get_file_name()\n",
    "    \n",
    "    ##如果檔案已經在我們資料夾中，則Pass\n",
    "    if file_name in os.listdir(News_DB_path):\n",
    "        #print(\"Pass News : \", file_name)\n",
    "        raise Cralwer_Done\n",
    "            \n",
    "    else:\n",
    "        ## news_content 為要寫入TXT檔的內文\n",
    "        news_content = \"\"\n",
    "        news_content += soup.select_one(\"._uo1\").text.strip() + \"\\n\" + soup.select_one(\"time\").text.strip()\n",
    "        ## 發現每個內文的標籤為p，故以迴圈讀取每個上的文字，以累計的方式寫在news_content\n",
    "        for p in soup.select_one(\"article\").select(\"p\"):\n",
    "            news_content += \"\\n\"\n",
    "            news_content += p.text\n",
    "        ## 最後把news_content存成txt檔，編碼為utf8\n",
    "        with open(os.path.join(News_DB_path, file_name), \"w\", encoding=\"utf8\") as writer:\n",
    "            writer.write(news_content)"
   ]
  },
  {
   "cell_type": "markdown",
   "metadata": {},
   "source": [
    "# 建立鉅亨網新聞API類別"
   ]
  },
  {
   "cell_type": "code",
   "execution_count": 4,
   "metadata": {},
   "outputs": [],
   "source": [
    "class cnyesAPI:\n",
    "    def __init__(self, start_date, end_date):\n",
    "        self.cnyes_home_api = \"https://news.cnyes.com/api/v3/news/category/tw_stock?startAt=\" + start_date +\\\n",
    "        \"&endAt=\"+ end_date + \"&limit=100\"\n",
    "        api_data = json.loads(BeautifulSoup(requests.get(self.cnyes_home_api).text, \"lxml\").text)\n",
    "        self.last_page = api_data[\"items\"][\"last_page\"]\n",
    "        \n",
    "    def get_news_list(self, page):\n",
    "        target_page_api = self.cnyes_home_api + \"&page=%d\"%page\n",
    "        api_data = json.loads(BeautifulSoup(requests.get(target_page_api).text, \"lxml\").text)\n",
    "        new_url_list = [\"https://news.cnyes.com/news/id/%d\"%item[\"newsId\"] for item in api_data[\"items\"][\"data\"]]\n",
    "        return new_url_list"
   ]
  },
  {
   "cell_type": "markdown",
   "metadata": {},
   "source": [
    "# 定義爬蟲完成例外以及離開爬蟲變數"
   ]
  },
  {
   "cell_type": "code",
   "execution_count": 5,
   "metadata": {},
   "outputs": [],
   "source": [
    "class Cralwer_Done(Exception):\n",
    "    pass\n",
    "\n",
    "terminal_cralwer = False\n",
    "repeat = 0"
   ]
  },
  {
   "cell_type": "markdown",
   "metadata": {},
   "source": [
    "# 主要程式開始"
   ]
  },
  {
   "cell_type": "code",
   "execution_count": 6,
   "metadata": {},
   "outputs": [],
   "source": [
    "## 指定時間\n",
    "#start_date = str(int(datetime.datetime(2018, 8, 10).timestamp()))\n",
    "## 固定15天\n",
    "start_date = str(int((datetime.datetime.today() - datetime.timedelta(days=15)).timestamp()))\n",
    "end_date   = str(int(time.mktime(datetime.date.today().timetuple())))  ## 今天"
   ]
  },
  {
   "cell_type": "code",
   "execution_count": 7,
   "metadata": {},
   "outputs": [
    {
     "name": "stdout",
     "output_type": "stream",
     "text": [
      "結束爬蟲\n",
      "cnyes crawler done !! \n"
     ]
    }
   ],
   "source": [
    "## 檢查資料夾路徑是否存在\n",
    "News_DB_path = os.path.join(\"./NewsDB\", \"cnyes\")\n",
    "check_and_mkdir(News_DB_path)\n",
    "\n",
    "## 進入api\n",
    "api = cnyesAPI(start_date, end_date)\n",
    "## 取得最後一頁頁碼\n",
    "final_page = api.last_page\n",
    "## 以迴圈讀取api每一頁\n",
    "for page in range(1, final_page + 1 ):\n",
    "    ## 取得每一頁新聞清單\n",
    "    new_url_list = api.get_news_list(page)\n",
    "    ## 以迴圈讀取新聞清單的每一個新聞的網址\n",
    "    for news_url in new_url_list:\n",
    "        try:\n",
    "            save_news(news_url)\n",
    "        except AttributeError:\n",
    "            time.sleep(5)\n",
    "            print(\"Stop 5 sec\")\n",
    "            save_news(news_url)\n",
    "        except Cralwer_Done:\n",
    "            if repeat < 3:\n",
    "                repeat+=1\n",
    "            else:\n",
    "                terminal_cralwer = True\n",
    "                break\n",
    "    if terminal_cralwer:\n",
    "        print(\"結束爬蟲\")\n",
    "        break\n",
    "print(\"cnyes crawler done !! \")"
   ]
  },
  {
   "cell_type": "code",
   "execution_count": null,
   "metadata": {},
   "outputs": [],
   "source": []
  },
  {
   "cell_type": "code",
   "execution_count": null,
   "metadata": {},
   "outputs": [],
   "source": []
  }
 ],
 "metadata": {
  "kernelspec": {
   "display_name": "Python 3",
   "language": "python",
   "name": "python3"
  },
  "language_info": {
   "codemirror_mode": {
    "name": "ipython",
    "version": 3
   },
   "file_extension": ".py",
   "mimetype": "text/x-python",
   "name": "python",
   "nbconvert_exporter": "python",
   "pygments_lexer": "ipython3",
   "version": "3.6.4"
  }
 },
 "nbformat": 4,
 "nbformat_minor": 2
}
